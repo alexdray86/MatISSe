{
 "cells": [
  {
   "cell_type": "markdown",
   "metadata": {},
   "source": [
    "### Prepare spatial training data"
   ]
  },
  {
   "cell_type": "code",
   "execution_count": 127,
   "metadata": {},
   "outputs": [],
   "source": [
    "import numpy as np\n",
    "import pandas as pd\n",
    "import matplotlib.pyplot as plt\n",
    "import tifffile\n",
    "import imageio\n",
    "import xarray\n",
    "import scipy\n",
    "import inspect # from package inspect-it\n",
    "import sys\n",
    "import torch"
   ]
  },
  {
   "cell_type": "markdown",
   "metadata": {},
   "source": [
    "To install a pip package in the current Jupyter kernel:"
   ]
  },
  {
   "cell_type": "code",
   "execution_count": 9,
   "metadata": {},
   "outputs": [],
   "source": [
    "#import sys\n",
    "#!{sys.executable} -m pip install inspect-it"
   ]
  },
  {
   "cell_type": "markdown",
   "metadata": {},
   "source": [
    "### Define Class and Funtions "
   ]
  },
  {
   "cell_type": "code",
   "execution_count": 176,
   "metadata": {},
   "outputs": [],
   "source": [
    "def logger(comment):\n",
    "    \"\"\"Function to print Class::Name - Comments from any classes\n",
    "\n",
    "    Args:\n",
    "        comment (str): comment to add to the logger\n",
    "    \"\"\"\n",
    "    class_fun_str = inspect.stack()[1][0].f_locals[\"self\"].__class__.__name__ + \"::\" + \\\n",
    "                    inspect.stack()[1].function + \"()\"\n",
    "    print(\"{:<40} - {:<50}\".format(class_fun_str, comment))\n",
    "\n",
    "def drawProgressBar(percent, barLen = 100):\n",
    "    # percent float from 0 to 1. \n",
    "    sys.stdout.write(\"\\r\")\n",
    "    sys.stdout.write(\"[{:<{}}] {:.0f}%\".format(\"=\" * int(barLen * percent), barLen, percent * 100))\n",
    "    sys.stdout.flush()\n",
    "        \n",
    "class Cell(object):\n",
    "    def __init__(self, x, loc, label, e=None, A=None, seg=None, mask=None, img=None, pi=None, z=None):\n",
    "        \"\"\"This class contain a Cell and all data related to a single-cell c\n",
    "        \n",
    "        Args:\n",
    "            x (torch.tensor, 1D): the spatial gene expression, from dots confidently attributed to cell c\n",
    "            A (xarray, 3D): 3D spatial expression containing coordinate of gene counts in local neighborhood\n",
    "            loc (pd.Series, 1D): contain x,y location of cell c centroid, accessible via .loc.x or .loc.y\n",
    "            seg (np.array, 2D): segmentation centered on cell c containing neighbor cells in local neighborhood\n",
    "            mask (np.array, 2D): binary mask from segmentated object in local neighborhood\n",
    "            img (np.array, 2D): image centered on cell c containing neighbor cells in local neighborhood\n",
    "            label (int): label of cell c\n",
    "            e (int): size of local neighborhood window, centroids will be enlarged by +/- e \n",
    "            pi (torch 1D tensor): probability to be affiliated to each K cell type\n",
    "            z (torch 1D tensor): assignment of cell type based on pi_c\n",
    "        \"\"\"\n",
    "        self.x = torch.tensor(x)\n",
    "        self.A = A\n",
    "        self.loc = loc\n",
    "        self.label = label\n",
    "        self.seg = seg\n",
    "        self.mask = mask\n",
    "        self.img = img\n",
    "        self.pi = pi\n",
    "        self.z = z\n",
    "        self.x_start = None ; self.x_end = None\n",
    "        self.y_start = None ; self.y_end = None\n",
    "        self.on_boarder = False\n",
    "        self.input_CNN = None\n",
    "        \n",
    "    def build_crops_c(self, A, seg, img, e, x_width, y_width):\n",
    "        \"\"\" Crop full size image, segmentation and matrix A, centered on cell c\n",
    "            Cell centroids will be enlarged by +/- e\"\"\"\n",
    "        #logger(f'cropping image, mask, segmentation and matrix A for cell {self.label}')\n",
    "        # record coordinates of local neighborhood\n",
    "        self.x_start = int(self.loc.x - e) ; self.x_end = int(self.loc.x + e)\n",
    "        self.y_start = int(self.loc.y - e) ; self.y_end = int(self.loc.y + e)\n",
    "        # crop input matrices \n",
    "        self.A = A[:,self.x_start:self.x_end,self.y_start:self.y_end] # size (G, 2e, 2e), G number of genes\n",
    "        self.seg = seg[self.x_start:self.x_end,self.y_start:self.y_end]\n",
    "        # binary mask from segmentation\n",
    "        self.mask = self.seg.copy()\n",
    "        self.mask[self.mask > 0] = 1\n",
    "        # croped image\n",
    "        self.img = img[self.x_start:self.x_end,self.y_start:self.y_end]\n",
    "        # 3D tensor used as input for CNN \n",
    "        self.input_CNN = torch.tensor(np.concatenate(( self.mask.reshape((1,) + self.mask.shape), \n",
    "                                                       self.img.reshape((1,) + self.img.shape), \n",
    "                                                       self.A )))\n",
    "        if self.x_start < 0 or self.y_start < 0 or self.x_end > x_width or self.y_end > y_width:\n",
    "            self.on_boarder = True\n",
    "        \n",
    "class CellContainer(object):\n",
    "    def __init__(self, img, seg, D, S, e, A=None, X=None, loc=None, cell_labels=None, gene_names=None, \n",
    "                 celltype_labels=None, ignore_cells_with_0transript = True):\n",
    "        \"\"\"CellContainer class contains all segmented cells form an image, and their associated spatial gene expression\n",
    "        \n",
    "        Args:\n",
    "            img (np.array, 2D): dapi staining raw image, size (width_X, width_Y)\n",
    "            seg (np.array, 2D): nuclei segmentation based on dapi staining\n",
    "            D (pd.DataFrame, 3 columns): Gene dots information, columns are (gene_name, x_coord, y_coord).\n",
    "            S (pd.DataFrame): Average cell-type gene expression from scRNA-seq, of size (K, G), K being the number of cell-types and G the number of genes\n",
    "            e (int): size of enlargement around cell centroids for making crops used by CNN.\n",
    "            A (xarray, 3D): contains the dot corresponding the spatial gene counts.xarray of size (G, width_X, width_Y), G being the number of genes, and (width_X,width_Y) the size of the full image. Calculated on the fly from D.\n",
    "            X (np.array, 2D): contains the gene counts confidently assigned to each cell c segmented in the spatial data. Calculated on the fly from seg, C, and D.\n",
    "            loc (pandas, 3 columns): cell centroid information, columns are (cell_label, x_coord, y_coord)\n",
    "            cell_labels (pd.Series, 1D): labels of cells in X, based on labels in segmentation matrix. Calculated on the fly from seg.\n",
    "            gene_names (pd.Series, 1D): labels of genes in matrix A, X, and M. Calculated on the fly from unique gene names in D.\n",
    "            celltype_labels (pd.Series, 1D): labels of cell-types in M. \n",
    "            ignore_cells_with_0transript (bool): [default: True] defines if cells that get 0 RNA transcript should be ignored\n",
    "        \"\"\"\n",
    "        self.img = img\n",
    "        self.seg = seg\n",
    "        self.D = D\n",
    "        self.S = S\n",
    "        self.e = e\n",
    "        self.A = A \n",
    "        self.X = X\n",
    "        self.loc = None\n",
    "        self.cell_labels = pd.Series(np.unique(self.seg)[1:]) # Build variable with unique Cell IDs\n",
    "        self.celltype_labels = None\n",
    "        self.ignore_cells_with_0transript = ignore_cells_with_0transript\n",
    "        self.X_miss = None # matrix X including cells with 0 transcripts\n",
    "        self.cell_labels_miss = None # cell labels including cells with 0 transcripts\n",
    "        self.cells = [] # list containing all Cell in image\n",
    "        self.x_width = self.seg.shape[0]\n",
    "        self.y_width = self.seg.shape[1]\n",
    "        \n",
    "        # class set-up function \n",
    "        self.define_gene_overlap()\n",
    "\n",
    "    def define_gene_overlap(self):\n",
    "        \"\"\"Function to find the list of gene names that overlaps between input data matrices\"\"\"\n",
    "        self.gene_names = pd.Series(sorted(set(self.D.name).intersection(set(self.S.index))))\n",
    "        self.D = self.D.iloc[np.array(D.name.isin(self.gene_names))]\n",
    "        self.D.index = range(self.D.shape[0]) # reindex\n",
    "        self.S = self.S.iloc[np.array(S.index.isin(self.gene_names))]\n",
    "        self.S.sort_index(inplace=True)\n",
    "        if len(self.gene_names) > 0:\n",
    "            logger(f\"Found {len(self.gene_names)} overlapping gene names\")\n",
    "        else:\n",
    "            raise ValueError('No overlap between gene names in D and S')\n",
    "        \n",
    "    def get_cell_centroids(self):\n",
    "        \"\"\"Function to find cell centroids based on cell segmentation\"\"\"\n",
    "        logger(f'Computing cell centroids based on segmentation file')\n",
    "        coords = []\n",
    "        for i in self.cell_labels:\n",
    "            coords.append([np.mean(x) for x in np.where(seg == i)])\n",
    "        self.loc = pd.DataFrame(coords, columns = ['x', 'y'], index=self.cell_labels)\n",
    "        \n",
    "    def find_closest_cell(self, x, y, max_shift=30):\n",
    "        \"\"\"Given (cell_x, cell_y) cell centroid coordinates, returns the closest cell in a radius of max_shift\"\"\"\n",
    "        for i in range(1,max_shift):\n",
    "            shift=i\n",
    "            cell_ids = np.unique(self.seg[x-shift:x+shift+1,y-shift:y+shift+1])\n",
    "            cell_ids = cell_ids[cell_ids!=0] # remove 'cell number 0' corredponding to background\n",
    "            if any(cell_ids != 0): # test if a cell is detected\n",
    "                n_cells_detected = len(cell_ids)\n",
    "                if n_cells_detected == 1: # test if only one cell is detected\n",
    "                    return cell_ids[0]\n",
    "                else: # if more than one cell is detected, return nothing\n",
    "                    return 0 # 'cell number 0' means no cell was detected \n",
    "        return 0\n",
    "    \n",
    "    def build_X_matrix(self, max_shift=30):\n",
    "        \"\"\"Based on segmentation and x,y coordinates of a cell, the closest cell is returned\n",
    "            If no cell is found in a distance of max_shift around the gene dot, 0 will be\n",
    "            returns meaning no cell attributed\"\"\"\n",
    "        logger(f'Attributing gene dots to closest cells')\n",
    "        closest_cells = []\n",
    "        for c in range(self.D.shape[0]):\n",
    "            x = self.D.loc[c].x\n",
    "            y = self.D.loc[c].y\n",
    "            closest_cells.append(self.find_closest_cell(x, y, max_shift=max_shift))\n",
    "        # Add info in dataframe D\n",
    "        self.D.insert(3, 'cell', value=np.array(closest_cells, dtype=int))\n",
    "        attributed = self.D['cell'].copy()\n",
    "        attributed[attributed > 0] = 1\n",
    "        self.D.insert(4, 'attributed', value=np.array(attributed)) \n",
    "        \n",
    "        logger(\"\"\"Build matrix X based on dot attribution\"\"\")\n",
    "        self.X = self.D.pivot_table(index='cell', columns='name', values='attributed', \n",
    "                                    aggfunc= 'sum').fillna(0).astype(int)\n",
    "        self.X = self.X[1:]\n",
    "        logger(str(round(100*self.X.shape[0]/len(np.unique(self.seg)))) + '% of cells got at least 1 RNA count') \n",
    "        if self.ignore_cells_with_0transript:\n",
    "            logger(\"\"\"Ignoring cells with 0 RNA transcript. Updating cell_labels and loc\"\"\")\n",
    "            self.cell_labels = self.X.index\n",
    "            self.loc = self.loc.iloc[self.loc.index.isin(self.cell_labels)]\n",
    "        else:\n",
    "            self.add_missing_cells_in_X()\n",
    "            \n",
    "    def add_missing_cells_in_X(self):\n",
    "        \"\"\"Adds rows for cells that got 0 RNA transcript attributed\"\"\"\n",
    "        # We get missing cell IDs\n",
    "        missing_ids = self.cell_labels[~self.cell_labels.isin(self.X.index)].astype(str)\n",
    "        # We build an empty data.frame with missing cell IDs\n",
    "        pd_missing_data = pd.DataFrame(np.zeros((len(missing_ids), self.X.shape[1])), index=missing_ids, columns=self.X.columns)\n",
    "        # We build X_supp which contains cell with 0 counts \n",
    "        self.X_miss = pd.concat([self.X, pd_missing_data]).astype(int)\n",
    "        self.X_miss.index = self.X_miss.index.astype(int)\n",
    "        self.X_miss = self.X_miss.sort_index()\n",
    "\n",
    "    def subset_cells(self, cell_ids):\n",
    "        \"\"\"Subsetting cells in all tables to fit cell labels in self.cell_labels variable\"\"\"\n",
    "        logger(\"\"\"Subsetting cells in self.X, self.X, and self.X\"\"\")\n",
    "        \n",
    "    def build_A_matrix(self):\n",
    "        \"\"\"Build matrix A based on gene dots in D\"\"\"\n",
    "        logger(\"Build matrix A based on gene dots in D\")\n",
    "        self.D.insert(5, 'value', 1)\n",
    "        all_As = []\n",
    "        for gene in self.gene_names:\n",
    "            gene_count_1gene = self.D.iloc[np.array(self.D.name == gene)]\n",
    "            A_1gene = gene_count_1gene.pivot_table(index='x', columns='y', values='value', \n",
    "                                                   aggfunc= 'sum').fillna(0).astype(int)\n",
    "            A_1gene = A_1gene.reindex(range(self.seg.shape[0]), axis=0, fill_value=0)\n",
    "            A_1gene = A_1gene.reindex(range(self.seg.shape[1]), axis=1, fill_value=0)\n",
    "            all_As.append(np.array(A_1gene))\n",
    "        self.A = xarray.DataArray(np.array(all_As), [ (\"genes\", self.gene_names), (\"x\", range(self.seg.shape[0])), (\"y\", range(self.seg.shape[1]))] )\n",
    "    \n",
    "    def build_Cell_objects(self):\n",
    "        \"\"\"Build Cell objects based on cell_labels, X, seg, and cell centroids, used as training data for our model.\"\"\"\n",
    "        logger(\"Build Cell objects based on X, A, seg, and cell centroids\")\n",
    "        logger(\"Iterating over cells:\")\n",
    "        n_cells = len(self.cell_labels)\n",
    "        for cn, c in enumerate(self.cell_labels):\n",
    "            Cell_obj = Cell(x=np.array(self.X.loc[c]), loc=self.loc.loc[c], label=c)\n",
    "            Cell_obj.build_crops_c(A=self.A, seg=self.seg, img=self.img, e=self.e, \n",
    "                                   x_width=self.x_width, y_width=self.y_width)\n",
    "            self.cells.append(Cell_obj)\n",
    "            progress = (cn + 1) / n_cells\n",
    "            drawProgressBar(progress)"
   ]
  },
  {
   "cell_type": "markdown",
   "metadata": {},
   "source": [
    "## Main \n",
    "\n",
    "Load necessary tables and build a `CellContainer` object, which will build all `Cell` objects containing all data needed from training our models."
   ]
  },
  {
   "cell_type": "code",
   "execution_count": 154,
   "metadata": {},
   "outputs": [],
   "source": [
    "D = pd.read_csv(\"../data/crop1_genes.csv\")\n",
    "img = tifffile.imread(\"../data/crop1_dapi.tif\").T\n",
    "seg = imageio.v2.imread('../data/crop1_dapi_cp_masks.png').T"
   ]
  },
  {
   "cell_type": "code",
   "execution_count": 155,
   "metadata": {},
   "outputs": [],
   "source": [
    "# fix mistake in input D (extra row)\n",
    "D = D.iloc[np.array(D.y != 1645)].copy()"
   ]
  },
  {
   "cell_type": "code",
   "execution_count": 156,
   "metadata": {},
   "outputs": [],
   "source": [
    "S = pd.read_csv(\"../data/scrna_muX_clust16_TaxonomyRank3.csv\", index_col='Gene')"
   ]
  },
  {
   "cell_type": "code",
   "execution_count": 177,
   "metadata": {},
   "outputs": [
    {
     "name": "stdout",
     "output_type": "stream",
     "text": [
      "CellContainer::define_gene_overlap()     - Found 187 overlapping gene names                  \n",
      "CellContainer::get_cell_centroids()      - Computing cell centroids based on segmentation file\n",
      "CellContainer::build_X_matrix()          - Attributing gene dots to closest cells            \n",
      "CellContainer::build_X_matrix()          - Build matrix X based on dot attribution           \n",
      "CellContainer::build_X_matrix()          - 82% of cells got at least 1 RNA count             \n",
      "CellContainer::build_X_matrix()          - Ignoring cells with 0 RNA transcript. Updating cell_labels and loc\n",
      "CellContainer::build_A_matrix()          - Build matrix A based on gene dots in D            \n",
      "CellContainer::build_Cell_objects()      - Build Cell objects based on X, A, seg, and cell centroids\n",
      "CellContainer::build_Cell_objects()      - Iterating over cells:                             \n",
      "[====================================================================================================] 100%"
     ]
    }
   ],
   "source": [
    "CellContainer_obj = CellContainer(img=img.copy(), seg=seg.copy(), D=D.copy(), S=S.copy(), e=50,\n",
    "                                  ignore_cells_with_0transript=True)\n",
    "CellContainer_obj.get_cell_centroids()\n",
    "CellContainer_obj.build_X_matrix()\n",
    "CellContainer_obj.build_A_matrix()\n",
    "CellContainer_obj.build_Cell_objects()"
   ]
  },
  {
   "cell_type": "code",
   "execution_count": 160,
   "metadata": {},
   "outputs": [
    {
     "data": {
      "text/plain": [
       "True"
      ]
     },
     "execution_count": 160,
     "metadata": {},
     "output_type": "execute_result"
    }
   ],
   "source": [
    "cell_id = 600\n",
    "all(CellContainer_obj.cells[cell_id].A.genes == CellContainer_obj.gene_names) # display xarray matrix A of 'cell_id'"
   ]
  },
  {
   "cell_type": "code",
   "execution_count": 178,
   "metadata": {},
   "outputs": [
    {
     "data": {
      "text/plain": [
       "tensor([[[   0,    0,    0,  ...,    0,    0,    0],\n",
       "         [   0,    0,    0,  ...,    0,    0,    0],\n",
       "         [   0,    0,    0,  ...,    0,    0,    0],\n",
       "         ...,\n",
       "         [   0,    0,    0,  ...,    0,    0,    0],\n",
       "         [   0,    0,    0,  ...,    0,    0,    0],\n",
       "         [   0,    0,    0,  ...,    0,    0,    0]],\n",
       "\n",
       "        [[ 985, 1004,  994,  ..., 1873, 1918, 1956],\n",
       "         [ 994, 1000,  983,  ..., 1851, 1895, 1933],\n",
       "         [1013, 1026, 1009,  ..., 1816, 1884, 1908],\n",
       "         ...,\n",
       "         [1018, 1001,  987,  ...,  930,  939,  931],\n",
       "         [1012, 1002,  988,  ...,  904,  915,  931],\n",
       "         [ 994, 1009, 1003,  ...,  906,  912,  908]],\n",
       "\n",
       "        [[   0,    0,    0,  ...,    0,    0,    0],\n",
       "         [   0,    0,    0,  ...,    0,    0,    0],\n",
       "         [   0,    0,    0,  ...,    0,    0,    0],\n",
       "         ...,\n",
       "         [   0,    0,    0,  ...,    0,    0,    0],\n",
       "         [   0,    0,    0,  ...,    0,    0,    0],\n",
       "         [   0,    0,    0,  ...,    0,    0,    0]],\n",
       "\n",
       "        ...,\n",
       "\n",
       "        [[   0,    0,    0,  ...,    0,    0,    0],\n",
       "         [   0,    0,    0,  ...,    0,    0,    0],\n",
       "         [   0,    0,    0,  ...,    0,    0,    0],\n",
       "         ...,\n",
       "         [   0,    0,    0,  ...,    0,    0,    0],\n",
       "         [   0,    0,    0,  ...,    0,    0,    0],\n",
       "         [   0,    0,    0,  ...,    0,    0,    0]],\n",
       "\n",
       "        [[   0,    0,    0,  ...,    0,    0,    0],\n",
       "         [   0,    0,    0,  ...,    0,    0,    0],\n",
       "         [   0,    0,    0,  ...,    0,    0,    0],\n",
       "         ...,\n",
       "         [   0,    0,    0,  ...,    0,    0,    0],\n",
       "         [   0,    0,    0,  ...,    0,    0,    0],\n",
       "         [   0,    0,    0,  ...,    0,    0,    0]],\n",
       "\n",
       "        [[   0,    0,    0,  ...,    0,    0,    0],\n",
       "         [   0,    0,    0,  ...,    0,    0,    0],\n",
       "         [   0,    0,    0,  ...,    0,    0,    0],\n",
       "         ...,\n",
       "         [   0,    0,    0,  ...,    0,    0,    0],\n",
       "         [   0,    0,    0,  ...,    0,    0,    0],\n",
       "         [   0,    0,    0,  ...,    0,    0,    0]]])"
      ]
     },
     "execution_count": 178,
     "metadata": {},
     "output_type": "execute_result"
    }
   ],
   "source": [
    "CellContainer_obj.cells[cell_id].input_CNN"
   ]
  },
  {
   "cell_type": "code",
   "execution_count": 171,
   "metadata": {},
   "outputs": [
    {
     "data": {
      "text/plain": [
       "91476"
      ]
     },
     "execution_count": 171,
     "metadata": {},
     "output_type": "execute_result"
    }
   ],
   "source": [
    "756*11*11"
   ]
  }
 ],
 "metadata": {
  "jupytext": {
   "formats": "ipynb,md"
  },
  "kernelspec": {
   "display_name": "spatial-sc-env",
   "language": "python",
   "name": "spatial-sc-env"
  },
  "language_info": {
   "codemirror_mode": {
    "name": "ipython",
    "version": 3
   },
   "file_extension": ".py",
   "mimetype": "text/x-python",
   "name": "python",
   "nbconvert_exporter": "python",
   "pygments_lexer": "ipython3",
   "version": "3.7.10"
  }
 },
 "nbformat": 4,
 "nbformat_minor": 4
}
