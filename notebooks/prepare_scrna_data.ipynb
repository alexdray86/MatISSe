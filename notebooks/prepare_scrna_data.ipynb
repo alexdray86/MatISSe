{
 "cells": [
  {
   "cell_type": "markdown",
   "metadata": {},
   "source": [
    "### Prepare scRNA-seq for spatial-sc model"
   ]
  },
  {
   "cell_type": "code",
   "execution_count": 2,
   "metadata": {},
   "outputs": [],
   "source": [
    "import numpy as np\n",
    "import pandas as pd\n",
    "import scipy, sklearn\n",
    "import matplotlib.pyplot as plt\n",
    "import scanpy as sc\n",
    "import loompy\n",
    "from scipy.sparse import csr_matrix\n",
    "import h5py\n",
    "import anndata"
   ]
  },
  {
   "cell_type": "markdown",
   "metadata": {},
   "source": [
    "### scRNA-seq data from La Manno et al. 2021"
   ]
  },
  {
   "cell_type": "code",
   "execution_count": 2,
   "metadata": {},
   "outputs": [
    {
     "data": {
      "text/plain": [
       "0      Agt\n",
       "1    Aldoc\n",
       "2     Ano1\n",
       "3     Aqp4\n",
       "4    Atoh1\n",
       "Name: 0, dtype: object"
      ]
     },
     "execution_count": 2,
     "metadata": {},
     "output_type": "execute_result"
    }
   ],
   "source": [
    "gene_subset = pd.read_csv('../data/spat_gene_names.csv', header=None)[0]\n",
    "gene_subset.head()"
   ]
  },
  {
   "cell_type": "code",
   "execution_count": 3,
   "metadata": {},
   "outputs": [
    {
     "name": "stderr",
     "output_type": "stream",
     "text": [
      "/Users/acoudray/Desktop/tmp_samba/phd/gioele_project/2209_hybiss_deconvolution/2209_env/lib/python3.7/site-packages/anndata/_io/read.py:152: PerformanceWarning: DataFrame is highly fragmented.  This is usually the result of calling `frame.insert` many times, which has poor performance.  Consider joining all columns at once using pd.concat(axis=1) instead.  To get a de-fragmented frame, use `newframe = frame.copy()`\n",
      "  axis_df[k] = v\n",
      "/Users/acoudray/Desktop/tmp_samba/phd/gioele_project/2209_hybiss_deconvolution/2209_env/lib/python3.7/site-packages/anndata/_core/anndata.py:1828: UserWarning: Observation names are not unique. To make them unique, call `.obs_names_make_unique`.\n",
      "  utils.warn_names_duplicates(\"obs\")\n",
      "/Users/acoudray/Desktop/tmp_samba/phd/gioele_project/2209_hybiss_deconvolution/2209_env/lib/python3.7/site-packages/anndata/_core/anndata.py:1830: UserWarning: Variable names are not unique. To make them unique, call `.var_names_make_unique`.\n",
      "  utils.warn_names_duplicates(\"var\")\n"
     ]
    }
   ],
   "source": [
    "# Load Loom file (takes a long time)\n",
    "scrna_dat = sc.read_loom(\"../../../2209_hybiss_deconvolution/data/l5_all.loom\")"
   ]
  },
  {
   "cell_type": "code",
   "execution_count": 4,
   "metadata": {},
   "outputs": [],
   "source": [
    "# We subset to use only genes in the subset coming from spatial expression data\n",
    "scrna_dat_sub = scrna_dat[:,scrna_dat.var_names.isin(gene_subset)]"
   ]
  },
  {
   "cell_type": "code",
   "execution_count": 53,
   "metadata": {},
   "outputs": [],
   "source": [
    "# Handling duplicate genes in scRNA-seq data\n",
    "non_unique_gene_names = np.unique(scrna_dat_sub.var_names, return_counts=True)[0][np.unique(scrna_dat_sub.var_names, return_counts=True)[1] > 1]\n",
    "scrna_dat_sub = scrna_dat_sub[:,~scrna_dat_sub.var_names.duplicated(keep='first')]"
   ]
  },
  {
   "cell_type": "code",
   "execution_count": 97,
   "metadata": {},
   "outputs": [
    {
     "data": {
      "text/plain": [
       "0"
      ]
     },
     "execution_count": 97,
     "metadata": {},
     "output_type": "execute_result"
    }
   ],
   "source": [
    "# check if any non-unique gene names is present\n",
    "len(np.unique(scrna_dat_sub.var_names, return_counts=True)[0][np.array(np.unique(scrna_dat_sub.var_names, return_counts=True)[1] > 1)])"
   ]
  },
  {
   "cell_type": "markdown",
   "metadata": {},
   "source": [
    "Here is all the information about clustering we have from the scRNA-seq data:"
   ]
  },
  {
   "cell_type": "code",
   "execution_count": 63,
   "metadata": {},
   "outputs": [
    {
     "data": {
      "text/html": [
       "<div>\n",
       "<style scoped>\n",
       "    .dataframe tbody tr th:only-of-type {\n",
       "        vertical-align: middle;\n",
       "    }\n",
       "\n",
       "    .dataframe tbody tr th {\n",
       "        vertical-align: top;\n",
       "    }\n",
       "\n",
       "    .dataframe thead th {\n",
       "        text-align: right;\n",
       "    }\n",
       "</style>\n",
       "<table border=\"1\" class=\"dataframe\">\n",
       "  <thead>\n",
       "    <tr style=\"text-align: right;\">\n",
       "      <th></th>\n",
       "      <th>Class</th>\n",
       "      <th>ClusterName</th>\n",
       "      <th>Clusters</th>\n",
       "      <th>TaxonomyRank1</th>\n",
       "      <th>TaxonomyRank2</th>\n",
       "      <th>TaxonomyRank3</th>\n",
       "      <th>TaxonomyRank4</th>\n",
       "      <th>TaxonomySymbol</th>\n",
       "      <th>Taxonomy_group</th>\n",
       "    </tr>\n",
       "    <tr>\n",
       "      <th>CellID</th>\n",
       "      <th></th>\n",
       "      <th></th>\n",
       "      <th></th>\n",
       "      <th></th>\n",
       "      <th></th>\n",
       "      <th></th>\n",
       "      <th></th>\n",
       "      <th></th>\n",
       "      <th></th>\n",
       "    </tr>\n",
       "  </thead>\n",
       "  <tbody>\n",
       "    <tr>\n",
       "      <th>10X82_2_TCTCTCACCAGTTA-</th>\n",
       "      <td>Neurons</td>\n",
       "      <td>ENT9</td>\n",
       "      <td>0</td>\n",
       "      <td>Neurons</td>\n",
       "      <td>PNS neurons</td>\n",
       "      <td>Enteric neurons</td>\n",
       "      <td>Enteric neurons</td>\n",
       "      <td>Enne</td>\n",
       "      <td>Enteric neurons</td>\n",
       "    </tr>\n",
       "    <tr>\n",
       "      <th>10X82_2_TATTATCTACCAGA-</th>\n",
       "      <td>Neurons</td>\n",
       "      <td>ENT9</td>\n",
       "      <td>0</td>\n",
       "      <td>Neurons</td>\n",
       "      <td>PNS neurons</td>\n",
       "      <td>Enteric neurons</td>\n",
       "      <td>Enteric neurons</td>\n",
       "      <td>Enne</td>\n",
       "      <td>Enteric neurons</td>\n",
       "    </tr>\n",
       "    <tr>\n",
       "      <th>10X82_2_TATCCCAGATGGCA-</th>\n",
       "      <td>Neurons</td>\n",
       "      <td>ENT9</td>\n",
       "      <td>0</td>\n",
       "      <td>Neurons</td>\n",
       "      <td>PNS neurons</td>\n",
       "      <td>Enteric neurons</td>\n",
       "      <td>Enteric neurons</td>\n",
       "      <td>Enne</td>\n",
       "      <td>Enteric neurons</td>\n",
       "    </tr>\n",
       "  </tbody>\n",
       "</table>\n",
       "</div>"
      ],
      "text/plain": [
       "                           Class ClusterName  Clusters TaxonomyRank1  \\\n",
       "CellID                                                                 \n",
       "10X82_2_TCTCTCACCAGTTA-  Neurons        ENT9         0       Neurons   \n",
       "10X82_2_TATTATCTACCAGA-  Neurons        ENT9         0       Neurons   \n",
       "10X82_2_TATCCCAGATGGCA-  Neurons        ENT9         0       Neurons   \n",
       "\n",
       "                        TaxonomyRank2    TaxonomyRank3    TaxonomyRank4  \\\n",
       "CellID                                                                    \n",
       "10X82_2_TCTCTCACCAGTTA-   PNS neurons  Enteric neurons  Enteric neurons   \n",
       "10X82_2_TATTATCTACCAGA-   PNS neurons  Enteric neurons  Enteric neurons   \n",
       "10X82_2_TATCCCAGATGGCA-   PNS neurons  Enteric neurons  Enteric neurons   \n",
       "\n",
       "                        TaxonomySymbol   Taxonomy_group  \n",
       "CellID                                                   \n",
       "10X82_2_TCTCTCACCAGTTA-           Enne  Enteric neurons  \n",
       "10X82_2_TATTATCTACCAGA-           Enne  Enteric neurons  \n",
       "10X82_2_TATCCCAGATGGCA-           Enne  Enteric neurons  "
      ]
     },
     "execution_count": 63,
     "metadata": {},
     "output_type": "execute_result"
    }
   ],
   "source": [
    "scrna_dat_sub.obs[['Class', 'ClusterName', 'Clusters', 'TaxonomyRank1', 'TaxonomyRank2',\n",
    "                   'TaxonomyRank3', 'TaxonomyRank4', 'TaxonomySymbol',\n",
    "                   'Taxonomy_group']].head(3)"
   ]
  },
  {
   "cell_type": "markdown",
   "metadata": {},
   "source": [
    "We will rely on `Class`, `Clusters`, `TaxonomyRank1`, `TaxonomyRank2`, `TaxonomyRank3`, and `TaxonomyRank4` groupings. All are derived from 265 `Clusters`."
   ]
  },
  {
   "cell_type": "code",
   "execution_count": 96,
   "metadata": {},
   "outputs": [
    {
     "name": "stdout",
     "output_type": "stream",
     "text": [
      "Class\n",
      "Clusters\n",
      "TaxonomyRank1\n",
      "TaxonomyRank2\n",
      "TaxonomyRank3\n",
      "TaxonomyRank4\n"
     ]
    }
   ],
   "source": [
    "taxonomy_ranks = ['Class','Clusters','TaxonomyRank1','TaxonomyRank2','TaxonomyRank3','TaxonomyRank4']\n",
    "for taxonomy in taxonomy_ranks:\n",
    "    print(taxonomy)\n",
    "    n_groups = len(np.unique(scrna_dat_sub.obs[taxonomy])) # number of clusters\n",
    "    \n",
    "    # iterate over clusters and compute the mean expression over cells belonging to group 'g'\n",
    "    cell_types = np.unique(scrna_dat_sub.obs[taxonomy])\n",
    "    mu_list = [] # record in list\n",
    "    for k in cell_types:\n",
    "        mu_list.append(np.array(scrna_dat_sub[scrna_dat_sub.obs[taxonomy].isin([k]),:].X.mean(axis=0))[0,:])\n",
    "    # assemble results in pandas with group names and gene names\n",
    "    mu_X = pd.DataFrame(np.array(mu_list), index = cell_types, columns = scrna_dat_sub.var_names).T\n",
    "    mu_X.to_csv(f\"../data/scrna_muX_clust{n_groups}_{taxonomy}.csv\")"
   ]
  },
  {
   "cell_type": "markdown",
   "metadata": {},
   "source": [
    "Hereafter, how the different Taxonomy relates to each other."
   ]
  },
  {
   "cell_type": "code",
   "execution_count": 117,
   "metadata": {},
   "outputs": [
    {
     "data": {
      "text/plain": [
       "array(['Glia_CNS glia_Astroependymal cells_Astrocytes',\n",
       "       'Glia_CNS glia_Astroependymal cells_Choroid epithelial cells',\n",
       "       'Glia_CNS glia_Astroependymal cells_Dentate gyrus radial glia-like cells',\n",
       "       'Glia_CNS glia_Astroependymal cells_Ependymal cells',\n",
       "       'Glia_CNS glia_Astroependymal cells_Subcommissural organ hypendymal cells',\n",
       "       'Glia_CNS glia_Astroependymal cells_Subventricular zone radial glia-like cells',\n",
       "       'Glia_CNS glia_Oligodendrocytes_Oligodendrocytes',\n",
       "       'Glia_Neural crest-like glia_Neural crest-like glia_Enteric glia',\n",
       "       'Glia_Neural crest-like glia_Neural crest-like glia_Olfactory ensheathing cells',\n",
       "       'Glia_Neural crest-like glia_Neural crest-like glia_Oligodendrocyte precursor cells',\n",
       "       'Glia_Neural crest-like glia_Neural crest-like glia_Satellite glia',\n",
       "       'Glia_Neural crest-like glia_Neural crest-like glia_Schwann cells',\n",
       "       'Immune cells_Immune cells_Immune cells_Microglia',\n",
       "       'Immune cells_Immune cells_Immune cells_Perivascular macrophages',\n",
       "       'Neurons_CNS neurons_Cerebellum neurons_Cerebellum neurons',\n",
       "       'Neurons_CNS neurons_Cholinergic, monoaminergic and peptidergic neurons_Cholinergic and monoaminergic neurons',\n",
       "       'Neurons_CNS neurons_Cholinergic, monoaminergic and peptidergic neurons_Peptidergic neurons',\n",
       "       'Neurons_CNS neurons_Di- and mesencephalon neurons_Di- and mesencephalon excitatory neurons',\n",
       "       'Neurons_CNS neurons_Di- and mesencephalon neurons_Di- and mesencephalon inhibitory neurons',\n",
       "       'Neurons_CNS neurons_Hindbrain neurons_Hindbrain neurons',\n",
       "       'Neurons_CNS neurons_Immature neural_Glutamatergic neuroblasts',\n",
       "       'Neurons_CNS neurons_Immature neural_Non-glutamatergic neuroblasts',\n",
       "       'Neurons_CNS neurons_Spinal cord neurons_Spinal cord excitatory neurons',\n",
       "       'Neurons_CNS neurons_Spinal cord neurons_Spinal cord inhibitory neurons',\n",
       "       'Neurons_CNS neurons_Telencephalon interneurons_Olfactory inhibitory neurons',\n",
       "       'Neurons_CNS neurons_Telencephalon interneurons_Telencephalon inhibitory interneurons',\n",
       "       'Neurons_CNS neurons_Telencephalon projecting neurons_Dentate gyrus granule neurons',\n",
       "       'Neurons_CNS neurons_Telencephalon projecting neurons_Telencephalon projecting excitatory neurons',\n",
       "       'Neurons_CNS neurons_Telencephalon projecting neurons_Telencephalon projecting inhibitory neurons',\n",
       "       'Neurons_PNS neurons_Enteric neurons_Enteric neurons',\n",
       "       'Neurons_PNS neurons_Peripheral sensory neurons_Peripheral sensory neurofilament neurons',\n",
       "       'Neurons_PNS neurons_Peripheral sensory neurons_Peripheral sensory non-peptidergic neurons',\n",
       "       'Neurons_PNS neurons_Peripheral sensory neurons_Peripheral sensory peptidergic neurons',\n",
       "       'Neurons_PNS neurons_Sympathetic neurons_Sympathetic cholinergic neurons',\n",
       "       'Neurons_PNS neurons_Sympathetic neurons_Sympathetic noradrenergic neurons',\n",
       "       'Vascular cells_Vascular cells_Vascular cells_Pericytes',\n",
       "       'Vascular cells_Vascular cells_Vascular cells_Vascular and leptomeningeal cells',\n",
       "       'Vascular cells_Vascular cells_Vascular cells_Vascular endothelial cells',\n",
       "       'Vascular cells_Vascular cells_Vascular cells_Vascular smooth muscle cells'],\n",
       "      dtype=object)"
      ]
     },
     "execution_count": 117,
     "metadata": {},
     "output_type": "execute_result"
    }
   ],
   "source": [
    "np.unique(scrna_dat.obs.TaxonomyRank1 + '_' + scrna_dat.obs.TaxonomyRank2 + '_' + scrna_dat.obs.TaxonomyRank3 + '_' + scrna_dat.obs.TaxonomyRank4)"
   ]
  },
  {
   "cell_type": "code",
   "execution_count": 29,
   "metadata": {},
   "outputs": [
    {
     "data": {
      "image/png": "[encoded data removed]",
      "text/plain": [
       "<Figure size 640x480 with 1 Axes>"
      ]
     },
     "metadata": {},
     "output_type": "display_data"
    }
   ],
   "source": [
    "plt.barh(np.unique(scrna_dat_sub.obs['TaxonomyRank3']), \n",
    "         np.unique(scrna_dat_sub.obs['TaxonomyRank3'], return_counts=True)[1])\n",
    "plt.tight_layout()\n",
    "plt.savefig(\"../results/figs/scrna_celltype_abundance.pdf\", dpi=300)"
   ]
  },
  {
   "cell_type": "code",
   "execution_count": 27,
   "metadata": {},
   "outputs": [],
   "source": [
    "pd.DataFrame(np.unique(scrna_dat_sub.obs['TaxonomyRank1'], return_counts=True), index=['name', 'count']).T.to_csv(\"../data/scrna_cellProp_TaxonomyRank1.csv\")\n",
    "pd.DataFrame(np.unique(scrna_dat_sub.obs['TaxonomyRank2'], return_counts=True), index=['name', 'count']).T.to_csv(\"../data/scrna_cellProp_TaxonomyRank2.csv\")\n",
    "pd.DataFrame(np.unique(scrna_dat_sub.obs['TaxonomyRank3'], return_counts=True), index=['name', 'count']).T.to_csv(\"../data/scrna_cellProp_TaxonomyRank3.csv\")\n",
    "pd.DataFrame(np.unique(scrna_dat_sub.obs['TaxonomyRank4'], return_counts=True), index=['name', 'count']).T.to_csv(\"../data/scrna_cellProp_TaxonomyRank4.csv\")"
   ]
  },
  {
   "cell_type": "markdown",
   "metadata": {},
   "source": [
    "### scRNA-seq data from Yao et al. 2021"
   ]
  },
  {
   "cell_type": "code",
   "execution_count": 3,
   "metadata": {},
   "outputs": [],
   "source": [
    "hf = h5py.File('../data/xenium/xenium_scrna_reference_yao2021/CTX_Hip_counts_10x.h5', 'r')"
   ]
  },
  {
   "cell_type": "code",
   "execution_count": null,
   "metadata": {},
   "outputs": [],
   "source": [
    "counts = csr_matrix(np.array(hf.get('data').get('counts')))"
   ]
  }
 ],
 "metadata": {
  "jupytext": {
   "formats": "ipynb,md"
  },
  "kernelspec": {
   "display_name": "2209_env",
   "language": "python",
   "name": "2209_env"
  },
  "language_info": {
   "codemirror_mode": {
    "name": "ipython",
    "version": 3
   },
   "file_extension": ".py",
   "mimetype": "text/x-python",
   "name": "python",
   "nbconvert_exporter": "python",
   "pygments_lexer": "ipython3",
   "version": "3.7.12"
  }
 },
 "nbformat": 4,
 "nbformat_minor": 4
}
